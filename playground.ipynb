{
 "cells": [
  {
   "cell_type": "code",
   "execution_count": 1,
   "id": "b2f1510d-957b-46cd-a77d-a055e8bb9acd",
   "metadata": {},
   "outputs": [
    {
     "name": "stdout",
     "output_type": "stream",
     "text": [
      "Apple\n",
      "Cherry\n",
      "Lime\n"
     ]
    }
   ],
   "source": [
    "# Simple fruit classifier based on size and color\n",
    "def classify_fruit(size, color_red_value):\n",
    "    \"\"\"\n",
    "    Simple rule-based classifier\n",
    "    size: 1-10 (1=small, 10=large)\n",
    "    color_red_value: 0-255 (0=no red, 255=very red)\n",
    "    \"\"\"\n",
    "    if size > 7 and color_red_value > 150:\n",
    "        return \"Apple\"\n",
    "    elif size < 4 and color_red_value > 100:\n",
    "        return \"Cherry\"\n",
    "    elif size > 5 and color_red_value < 50:\n",
    "        return \"Lime\"\n",
    "    else:\n",
    "        return \"Unknown fruit\"\n",
    "\n",
    "# Test our classifier\n",
    "print(classify_fruit(8, 200))  # Should output: Apple\n",
    "print(classify_fruit(2, 180))  # Should output: Cherry\n",
    "print(classify_fruit(6, 30))   # Should output: Lime"
   ]
  },
  {
   "cell_type": "code",
   "execution_count": 2,
   "id": "ca71a499-5c37-4655-ae6c-8088b80995e5",
   "metadata": {},
   "outputs": [
    {
     "name": "stdout",
     "output_type": "stream",
     "text": [
      "Unknown fruit\n"
     ]
    }
   ],
   "source": []
  },
  {
   "cell_type": "code",
   "execution_count": null,
   "id": "93ac4921-78ab-4939-b18c-a602a77f6cab",
   "metadata": {},
   "outputs": [],
   "source": []
  }
 ],
 "metadata": {
  "kernelspec": {
   "display_name": "Python 3 (ipykernel)",
   "language": "python",
   "name": "python3"
  },
  "language_info": {
   "codemirror_mode": {
    "name": "ipython",
    "version": 3
   },
   "file_extension": ".py",
   "mimetype": "text/x-python",
   "name": "python",
   "nbconvert_exporter": "python",
   "pygments_lexer": "ipython3",
   "version": "3.9.6"
  }
 },
 "nbformat": 4,
 "nbformat_minor": 5
}
